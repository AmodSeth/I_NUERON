{
 "cells": [
  {
   "cell_type": "markdown",
   "id": "dfbe6137-9d7d-4de5-8fe2-a9fe201c17ca",
   "metadata": {},
   "source": [
    "## Simple Linear Regression Template"
   ]
  },
  {
   "cell_type": "code",
   "execution_count": 1,
   "id": "c761886f-d4ae-40f5-9330-624dd8fc84f4",
   "metadata": {},
   "outputs": [
    {
     "data": {
      "text/plain": [
       "(array([[1.        , 0.75768432, 0.26546353, 0.35361394, 0.33694446,\n",
       "         0.69838472],\n",
       "        [1.        , 0.73789942, 0.14955718, 0.31242434, 0.69418581,\n",
       "         0.06264589],\n",
       "        [1.        , 0.03858776, 0.41591408, 0.08767033, 0.87410936,\n",
       "         0.06320798],\n",
       "        [1.        , 0.23883329, 0.06701245, 0.05043816, 0.05788153,\n",
       "         0.95974373],\n",
       "        [1.        , 0.88646386, 0.03822445, 0.32075943, 0.66557543,\n",
       "         0.03655127],\n",
       "        [1.        , 0.42598549, 0.4392168 , 0.71084186, 0.20902216,\n",
       "         0.9706129 ],\n",
       "        [1.        , 0.08596399, 0.10840961, 0.59755104, 0.6565628 ,\n",
       "         0.31014255]]),\n",
       " array([[ 3.87555299],\n",
       "        [11.55505424],\n",
       "        [ 3.94386439],\n",
       "        [ 4.05031741],\n",
       "        [-6.67321109],\n",
       "        [ 0.2687462 ],\n",
       "        [-2.09059938]]),\n",
       " array([[0.50035013],\n",
       "        [0.19219174],\n",
       "        [0.65111115],\n",
       "        [0.55614213],\n",
       "        [0.15184768],\n",
       "        [0.71807859]]))"
      ]
     },
     "execution_count": 1,
     "metadata": {},
     "output_type": "execute_result"
    }
   ],
   "source": [
    "# import random\n",
    "# import numpy as np                                                            #using numpy library \n",
    "\n",
    "\n",
    "# def generate_regression_dataset(n, m, sigma=0, random_state=None):             # the required fucntion is named as generate_regression_dataset which takes n,m signma, random_state as input \n",
    "#     if random_state is not None:\n",
    "#         random.seed(random_state)\n",
    "#     X = np.random.rand(n, m)                                                  # generate a numpy 2d arary where each element in the array is a random number between 0 and 1.\n",
    "#     ones = np.ones((n, 1))\n",
    "#     X = np.hstack((ones, X))                                                  # horizantally stack the two arrays\n",
    "#     beta = np.random.rand(m+1, 1)\n",
    "#     Y = np.dot(X, beta)                                                        #matrix multiplication\n",
    "#     Y += np.random.normal(scale=sigma, size=Y.shape)                           #noise\n",
    "#     return X, Y, beta\n",
    "# X,Y,beta=generate_regression_dataset(n=7,m=5,sigma=4,random_state=80)\n",
    "# X,Y,beta\n"
   ]
  },
  {
   "cell_type": "markdown",
   "id": "24bca78a-db9e-43c1-9975-daa00c56aaa9",
   "metadata": {},
   "source": [
    "# why we are using simple linear reg: coz its a continous values based dataset"
   ]
  },
  {
   "cell_type": "code",
   "execution_count": 2,
   "id": "b798661f-c8c0-4341-9bf6-cd953a1d69e6",
   "metadata": {},
   "outputs": [],
   "source": [
    "import numpy as np\n",
    "import pandas as pd\n",
    "import matplotlib.pyplot as plt\n",
    "\n",
    "# t just means that any graph which we are creating as a part of our code will appear in the same notebook and not in separate window which would\n",
    "%matplotlib inline"
   ]
  },
  {
   "cell_type": "code",
   "execution_count": 12,
   "id": "ab78c4c5-bdcc-4e8d-be30-2d52c9b9f398",
   "metadata": {},
   "outputs": [
    {
     "data": {
      "text/html": [
       "<div>\n",
       "<style scoped>\n",
       "    .dataframe tbody tr th:only-of-type {\n",
       "        vertical-align: middle;\n",
       "    }\n",
       "\n",
       "    .dataframe tbody tr th {\n",
       "        vertical-align: top;\n",
       "    }\n",
       "\n",
       "    .dataframe thead th {\n",
       "        text-align: right;\n",
       "    }\n",
       "</style>\n",
       "<table border=\"1\" class=\"dataframe\">\n",
       "  <thead>\n",
       "    <tr style=\"text-align: right;\">\n",
       "      <th></th>\n",
       "      <th>Height</th>\n",
       "      <th>Weight</th>\n",
       "    </tr>\n",
       "  </thead>\n",
       "  <tbody>\n",
       "    <tr>\n",
       "      <th>0</th>\n",
       "      <td>568439</td>\n",
       "      <td>5666</td>\n",
       "    </tr>\n",
       "    <tr>\n",
       "      <th>1</th>\n",
       "      <td>2261304</td>\n",
       "      <td>53913788</td>\n",
       "    </tr>\n",
       "    <tr>\n",
       "      <th>2</th>\n",
       "      <td>612</td>\n",
       "      <td>278</td>\n",
       "    </tr>\n",
       "    <tr>\n",
       "      <th>3</th>\n",
       "      <td>433860952</td>\n",
       "      <td>81</td>\n",
       "    </tr>\n",
       "    <tr>\n",
       "      <th>4</th>\n",
       "      <td>46377115</td>\n",
       "      <td>3</td>\n",
       "    </tr>\n",
       "  </tbody>\n",
       "</table>\n",
       "</div>"
      ],
      "text/plain": [
       "      Height    Weight\n",
       "0     568439      5666\n",
       "1    2261304  53913788\n",
       "2        612       278\n",
       "3  433860952        81\n",
       "4   46377115         3"
      ]
     },
     "execution_count": 12,
     "metadata": {},
     "output_type": "execute_result"
    }
   ],
   "source": [
    "#reading the dataset\n",
    "\n",
    "## 1. CHANGE THE PATH FOR NEW DATASET\n",
    "PATH=\"./dataset/output.csv\"\n",
    "\n",
    "df=pd.read_csv(PATH)\n",
    "\n",
    "df.head() #Return the first n rows. This function returns the first n rows for the object based on position. I\n"
   ]
  },
  {
   "cell_type": "markdown",
   "id": "fe3afa9a-d9f6-402c-abfc-cb126750d9fa",
   "metadata": {},
   "source": [
    "### raw visulalitaion"
   ]
  },
  {
   "cell_type": "code",
   "execution_count": 16,
   "id": "1c933c2b-5b25-4c92-92bc-467c362085b8",
   "metadata": {},
   "outputs": [
    {
     "data": {
      "text/plain": [
       "Text(0.5, 1.0, 'raw graph')"
      ]
     },
     "execution_count": 16,
     "metadata": {},
     "output_type": "execute_result"
    },
    {
     "data": {
      "image/png": "[encoded data removed]",
      "text/plain": [
       "<Figure size 640x480 with 1 Axes>"
      ]
     },
     "metadata": {},
     "output_type": "display_data"
    }
   ],
   "source": [
    "\n",
    "# dividing the axis\n",
    "plt.scatter(df['Weight'],df['Height'])\n",
    "plt.xlabel(\"Weight\") #it is used for labeling the axis's\n",
    "plt.ylabel(\"Height\")\n",
    "plt.title(\"raw graph\") # it is used for labeling the chart"
   ]
  },
  {
   "cell_type": "code",
   "execution_count": 17,
   "id": "80899943-37d0-420f-85cf-35dfd48c16d3",
   "metadata": {},
   "outputs": [
    {
     "data": {
      "text/plain": [
       "Height    0\n",
       "Weight    0\n",
       "dtype: int64"
      ]
     },
     "execution_count": 17,
     "metadata": {},
     "output_type": "execute_result"
    }
   ],
   "source": [
    "###df.isnull().sum()"
   ]
  },
  {
   "cell_type": "markdown",
   "id": "6cdeb858-695a-4de0-a119-45c8522805b2",
   "metadata": {},
   "source": [
    "### 3. divide our dataset into indpendent and dependent features\n",
    "\n",
    "\n",
    "\n"
   ]
  },
  {
   "cell_type": "code",
   "execution_count": 26,
   "id": "6c0b1c91-98cf-49ab-9707-52324fb338f1",
   "metadata": {},
   "outputs": [
    {
     "data": {
      "text/plain": [
       "(     Weight\n",
       " 0      5666\n",
       " 1  53913788\n",
       " 2       278\n",
       " 3        81\n",
       " 4         3,\n",
       " 0       568439\n",
       " 1      2261304\n",
       " 2          612\n",
       " 3    433860952\n",
       " 4     46377115\n",
       " Name: Height, dtype: int64)"
      ]
     },
     "execution_count": 26,
     "metadata": {},
     "output_type": "execute_result"
    }
   ],
   "source": [
    "X = df[['Weight']] ## independent feature\n",
    "y = df['Height']  ## dependent feature\n",
    "\n",
    "X.head(),y.head()\n"
   ]
  },
  {
   "cell_type": "markdown",
   "id": "ebbf20dc-4f80-4472-add1-57c117a82e45",
   "metadata": {},
   "source": [
    "### 4.further divide the dataset into train test split"
   ]
  },
  {
   "cell_type": "code",
   "execution_count": 21,
   "id": "dcde77a6-53fd-4af5-8e85-6fd0c6a91c5b",
   "metadata": {},
   "outputs": [],
   "source": [
    "from sklearn.model_selection import train_test_split\n"
   ]
  },
  {
   "cell_type": "code",
   "execution_count": 22,
   "id": "96c7c7e6-c535-4156-8d8a-f8150a846cda",
   "metadata": {},
   "outputs": [],
   "source": [
    "## it returns 4 varialbles  X_train,X_test,y_train,y_test\n",
    "X_train,X_test,y_train,y_test = train_test_split(X,y,test_size=0.40,\n",
    "    random_state=5)"
   ]
  },
  {
   "cell_type": "code",
   "execution_count": 28,
   "id": "18673952-7dcd-4856-9a6e-126f9d86e9f6",
   "metadata": {},
   "outputs": [
    {
     "data": {
      "text/plain": [
       "((720, 1), (480, 1))"
      ]
     },
     "execution_count": 28,
     "metadata": {},
     "output_type": "execute_result"
    }
   ],
   "source": [
    "X_train.shape,X_test.shape"
   ]
  },
  {
   "cell_type": "code",
   "execution_count": 29,
   "id": "7b86632f-8100-4937-892d-9c5649cf302b",
   "metadata": {},
   "outputs": [
    {
     "data": {
      "text/plain": [
       "((720,), (480,))"
      ]
     },
     "execution_count": 29,
     "metadata": {},
     "output_type": "execute_result"
    }
   ],
   "source": [
    "y_train.shape,y_test.shape"
   ]
  },
  {
   "cell_type": "code",
   "execution_count": 30,
   "id": "020a1576-0fde-4ceb-b92d-d0720b81a07f",
   "metadata": {},
   "outputs": [],
   "source": [
    "### 5.standard scalling on the train test data\n",
    "### why do we do that? coz to let convergence algo work fast and to standardise the \n",
    "### value in the same things"
   ]
  },
  {
   "cell_type": "code",
   "execution_count": 48,
   "id": "45fbde0a-f503-426f-b720-e6c50b62b3d8",
   "metadata": {},
   "outputs": [
    {
     "data": {
      "text/plain": [
       "<AxesSubplot: >"
      ]
     },
     "execution_count": 48,
     "metadata": {},
     "output_type": "execute_result"
    },
    {
     "data": {
      "image/png": "[encoded data removed]",
      "text/plain": [
       "<Figure size 640x480 with 1 Axes>"
      ]
     },
     "metadata": {},
     "output_type": "display_data"
    }
   ],
   "source": [
    "from sklearn.preprocessing import StandardScaler\n",
    "scaler=StandardScaler()\n",
    "\n",
    "# always fit transform the train data and test data only for transform\n",
    "X_train = scaler.fit_transform(X_train)\n",
    "X_test = scaler.transform(X_test)\n",
    "\n",
    "X_train.shape,X_test.shape\n",
    "\n",
    "\n"
   ]
  },
  {
   "cell_type": "markdown",
   "id": "ad6a1c6a-bb5a-4bc7-864d-d9d03e14a477",
   "metadata": {},
   "source": [
    "### model training "
   ]
  },
  {
   "cell_type": "code",
   "execution_count": 49,
   "id": "32644a8d-00ca-4f1b-a456-318cbf73b2af",
   "metadata": {},
   "outputs": [
    {
     "data": {
      "text/html": [
       "<style>#sk-container-id-1 {color: black;background-color: white;}#sk-container-id-1 pre{padding: 0;}#sk-container-id-1 div.sk-toggleable {background-color: white;}#sk-container-id-1 label.sk-toggleable__label {cursor: pointer;display: block;width: 100%;margin-bottom: 0;padding: 0.3em;box-sizing: border-box;text-align: center;}#sk-container-id-1 label.sk-toggleable__label-arrow:before {content: \"▸\";float: left;margin-right: 0.25em;color: #696969;}#sk-container-id-1 label.sk-toggleable__label-arrow:hover:before {color: black;}#sk-container-id-1 div.sk-estimator:hover label.sk-toggleable__label-arrow:before {color: black;}#sk-container-id-1 div.sk-toggleable__content {max-height: 0;max-width: 0;overflow: hidden;text-align: left;background-color: #f0f8ff;}#sk-container-id-1 div.sk-toggleable__content pre {margin: 0.2em;color: black;border-radius: 0.25em;background-color: #f0f8ff;}#sk-container-id-1 input.sk-toggleable__control:checked~div.sk-toggleable__content {max-height: 200px;max-width: 100%;overflow: auto;}#sk-container-id-1 input.sk-toggleable__control:checked~label.sk-toggleable__label-arrow:before {content: \"▾\";}#sk-container-id-1 div.sk-estimator input.sk-toggleable__control:checked~label.sk-toggleable__label {background-color: #d4ebff;}#sk-container-id-1 div.sk-label input.sk-toggleable__control:checked~label.sk-toggleable__label {background-color: #d4ebff;}#sk-container-id-1 input.sk-hidden--visually {border: 0;clip: rect(1px 1px 1px 1px);clip: rect(1px, 1px, 1px, 1px);height: 1px;margin: -1px;overflow: hidden;padding: 0;position: absolute;width: 1px;}#sk-container-id-1 div.sk-estimator {font-family: monospace;background-color: #f0f8ff;border: 1px dotted black;border-radius: 0.25em;box-sizing: border-box;margin-bottom: 0.5em;}#sk-container-id-1 div.sk-estimator:hover {background-color: #d4ebff;}#sk-container-id-1 div.sk-parallel-item::after {content: \"\";width: 100%;border-bottom: 1px solid gray;flex-grow: 1;}#sk-container-id-1 div.sk-label:hover label.sk-toggleable__label {background-color: #d4ebff;}#sk-container-id-1 div.sk-serial::before {content: \"\";position: absolute;border-left: 1px solid gray;box-sizing: border-box;top: 0;bottom: 0;left: 50%;z-index: 0;}#sk-container-id-1 div.sk-serial {display: flex;flex-direction: column;align-items: center;background-color: white;padding-right: 0.2em;padding-left: 0.2em;position: relative;}#sk-container-id-1 div.sk-item {position: relative;z-index: 1;}#sk-container-id-1 div.sk-parallel {display: flex;align-items: stretch;justify-content: center;background-color: white;position: relative;}#sk-container-id-1 div.sk-item::before, #sk-container-id-1 div.sk-parallel-item::before {content: \"\";position: absolute;border-left: 1px solid gray;box-sizing: border-box;top: 0;bottom: 0;left: 50%;z-index: -1;}#sk-container-id-1 div.sk-parallel-item {display: flex;flex-direction: column;z-index: 1;position: relative;background-color: white;}#sk-container-id-1 div.sk-parallel-item:first-child::after {align-self: flex-end;width: 50%;}#sk-container-id-1 div.sk-parallel-item:last-child::after {align-self: flex-start;width: 50%;}#sk-container-id-1 div.sk-parallel-item:only-child::after {width: 0;}#sk-container-id-1 div.sk-dashed-wrapped {border: 1px dashed gray;margin: 0 0.4em 0.5em 0.4em;box-sizing: border-box;padding-bottom: 0.4em;background-color: white;}#sk-container-id-1 div.sk-label label {font-family: monospace;font-weight: bold;display: inline-block;line-height: 1.2em;}#sk-container-id-1 div.sk-label-container {text-align: center;}#sk-container-id-1 div.sk-container {/* jupyter's `normalize.less` sets `[hidden] { display: none; }` but bootstrap.min.css set `[hidden] { display: none !important; }` so we also need the `!important` here to be able to override the default hidden behavior on the sphinx rendered scikit-learn.org. See: https://github.com/scikit-learn/scikit-learn/issues/21755 */display: inline-block !important;position: relative;}#sk-container-id-1 div.sk-text-repr-fallback {display: none;}</style><div id=\"sk-container-id-1\" class=\"sk-top-container\"><div class=\"sk-text-repr-fallback\"><pre>LinearRegression()</pre><b>In a Jupyter environment, please rerun this cell to show the HTML representation or trust the notebook. <br />On GitHub, the HTML representation is unable to render, please try loading this page with nbviewer.org.</b></div><div class=\"sk-container\" hidden><div class=\"sk-item\"><div class=\"sk-estimator sk-toggleable\"><input class=\"sk-toggleable__control sk-hidden--visually\" id=\"sk-estimator-id-1\" type=\"checkbox\" checked><label for=\"sk-estimator-id-1\" class=\"sk-toggleable__label sk-toggleable__label-arrow\">LinearRegression</label><div class=\"sk-toggleable__content\"><pre>LinearRegression()</pre></div></div></div></div></div>"
      ],
      "text/plain": [
       "LinearRegression()"
      ]
     },
     "execution_count": 49,
     "metadata": {},
     "output_type": "execute_result"
    }
   ],
   "source": [
    "from sklearn.linear_model import LinearRegression\n",
    "\n",
    "regressor = LinearRegression()\n",
    "\n",
    "##training the tran data\n",
    "regressor.fit(X_train,y_train)"
   ]
  },
  {
   "cell_type": "code",
   "execution_count": 51,
   "id": "43939df8-d104-41cb-a257-433c3fdff729",
   "metadata": {},
   "outputs": [
    {
     "data": {
      "text/plain": [
       "(63156991.3375, array([18919170.27867332]))"
      ]
     },
     "execution_count": 51,
     "metadata": {},
     "output_type": "execute_result"
    }
   ],
   "source": [
    "regressor.intercept_,regressor.coef_"
   ]
  },
  {
   "cell_type": "code",
   "execution_count": 55,
   "id": "d6e1f6f7-15ec-4ab2-833d-ae7dee26b30a",
   "metadata": {},
   "outputs": [
    {
     "data": {
      "text/plain": [
       "[<matplotlib.lines.Line2D at 0x7fa3456174f0>]"
      ]
     },
     "execution_count": 55,
     "metadata": {},
     "output_type": "execute_result"
    },
    {
     "data": {
      "image/png": "[encoded data removed]",
      "text/plain": [
       "<Figure size 640x480 with 1 Axes>"
      ]
     },
     "metadata": {},
     "output_type": "display_data"
    }
   ],
   "source": [
    "plt.scatter(X_train,y_train)\n",
    "# plt.scatter(X_train,regressor.predict(X_train))\n",
    "# ((x,Y^))\n",
    "plt.plot(X_train,regressor.predict(X_train),'r')"
   ]
  },
  {
   "cell_type": "code",
   "execution_count": 56,
   "id": "a81df711-7405-4250-9392-7c820e19687d",
   "metadata": {},
   "outputs": [
    {
     "data": {
      "text/plain": [
       "array([5.71778929e+07, 5.71773349e+07, 6.69465313e+07, 6.75169492e+07,\n",
       "       5.71773099e+07, 5.71860878e+07, 5.71790140e+07, 5.71776112e+07,\n",
       "       5.71777900e+07, 7.52847451e+07, 1.08958282e+08, 5.72376948e+07,\n",
       "       5.72371461e+07, 5.79691254e+07, 1.24196197e+08, 5.81280659e+07,\n",
       "       6.66828409e+07, 5.71822613e+07, 5.71773145e+07, 5.71783164e+07,\n",
       "       5.80647264e+07, 5.71773105e+07, 5.71950213e+07, 5.71773112e+07,\n",
       "       5.71773158e+07, 5.71773100e+07, 5.71781064e+07, 5.71844383e+07,\n",
       "       5.81981221e+07, 5.71773095e+07, 6.50995474e+07, 5.71773096e+07,\n",
       "       5.71775252e+07, 5.71773181e+07, 5.71773103e+07, 5.72203628e+07,\n",
       "       5.72630237e+07, 5.71773859e+07, 5.71773858e+07, 5.71949801e+07,\n",
       "       6.65176722e+07, 5.71773105e+07, 5.71773786e+07, 5.72513928e+07,\n",
       "       5.72147103e+07, 5.71803502e+07, 5.71773146e+07, 5.71773145e+07,\n",
       "       5.71773117e+07, 5.77356130e+07, 5.71773932e+07, 5.71779817e+07,\n",
       "       5.71773100e+07, 5.71773100e+07, 8.87912895e+07, 5.71779045e+07,\n",
       "       5.71773189e+07, 5.71773180e+07, 5.71773832e+07, 1.28801532e+08,\n",
       "       5.71780860e+07, 9.27661416e+07, 5.71776269e+07, 5.71775973e+07,\n",
       "       5.71819319e+07, 5.71831256e+07, 5.74936686e+07, 5.71773422e+07,\n",
       "       5.71773573e+07, 5.91081472e+07, 1.13751901e+08, 5.72811474e+07,\n",
       "       5.71783503e+07, 5.95299887e+07, 5.71773183e+07, 5.71773315e+07,\n",
       "       5.71773105e+07, 5.71773172e+07, 5.71777661e+07, 1.37136287e+08,\n",
       "       5.72417705e+07, 5.71779272e+07, 5.93478202e+07, 5.71773536e+07,\n",
       "       5.72815366e+07, 6.17028292e+07, 5.78693383e+07, 5.71773097e+07,\n",
       "       5.71807832e+07, 5.71773096e+07, 5.71780180e+07, 5.71773096e+07,\n",
       "       5.71773095e+07, 5.71773103e+07, 5.71774144e+07, 5.71773250e+07,\n",
       "       5.71773173e+07, 5.75957483e+07, 5.74971880e+07, 5.72060624e+07,\n",
       "       1.26538361e+08, 5.72528244e+07, 5.77258093e+07, 5.71773961e+07,\n",
       "       5.71834206e+07, 5.71805639e+07, 5.71773184e+07, 5.78100917e+07,\n",
       "       5.71773109e+07, 5.71825905e+07, 5.75453259e+07, 5.71773725e+07,\n",
       "       1.51699077e+08, 1.09727987e+08, 5.72472941e+07, 5.71836436e+07,\n",
       "       5.71773189e+07, 5.71774507e+07, 5.73818116e+07, 5.71773822e+07,\n",
       "       5.71773195e+07, 5.79351304e+07, 5.71773702e+07, 5.71889872e+07,\n",
       "       9.31946843e+07, 5.71773095e+07, 5.71773104e+07, 5.71773696e+07,\n",
       "       5.71773103e+07, 5.71781081e+07, 5.73669200e+07, 5.71773098e+07,\n",
       "       5.77253401e+07, 5.71773631e+07, 5.71775540e+07, 5.71773101e+07,\n",
       "       5.72667067e+07, 5.71773167e+07, 5.71773150e+07, 5.71773100e+07,\n",
       "       9.31495791e+07, 5.71774104e+07, 5.71837065e+07, 1.11881759e+08,\n",
       "       5.80091631e+07, 5.78708395e+07, 6.34233939e+07, 5.71773124e+07,\n",
       "       5.71781792e+07, 5.76799720e+07, 5.71841361e+07, 5.71783277e+07,\n",
       "       5.73712939e+07, 5.71773136e+07, 5.71774763e+07, 5.72313008e+07,\n",
       "       5.80972183e+07, 5.72009209e+07, 5.80300559e+07, 5.71773666e+07,\n",
       "       5.71773995e+07, 5.71773105e+07, 5.71774565e+07, 7.00763630e+07,\n",
       "       1.58676680e+08, 5.72034106e+07, 1.01461937e+08, 5.71842740e+07,\n",
       "       5.71773146e+07, 7.70855771e+07, 5.71773104e+07, 5.71773127e+07,\n",
       "       5.71773190e+07, 5.71779670e+07, 5.71773099e+07, 6.39232963e+07,\n",
       "       5.71773188e+07, 5.72252260e+07, 5.71773103e+07, 1.60390631e+08,\n",
       "       5.71773139e+07, 5.71773374e+07, 1.53426806e+08, 5.71773812e+07,\n",
       "       5.71829095e+07, 5.71956312e+07, 5.71773110e+07, 5.71773097e+07,\n",
       "       5.71773847e+07, 5.72352842e+07, 5.76241609e+07, 5.71783869e+07,\n",
       "       5.71781702e+07, 1.44061223e+08, 5.71773105e+07, 5.81952362e+07,\n",
       "       5.71773367e+07, 6.47345381e+07, 5.78071648e+07, 5.71773105e+07,\n",
       "       5.71865706e+07, 5.71853982e+07, 5.71783080e+07, 6.49211916e+07,\n",
       "       5.71773162e+07, 6.00866124e+07, 5.71773864e+07, 5.71773291e+07,\n",
       "       6.54393052e+07, 1.30992262e+08, 5.72227127e+07, 5.76778989e+07,\n",
       "       5.71780159e+07, 1.57706443e+08, 5.72473989e+07, 5.72497177e+07,\n",
       "       1.19926852e+08, 5.71774186e+07, 5.76155319e+07, 5.95965427e+07,\n",
       "       5.71774103e+07, 6.64492489e+07, 5.71883619e+07, 5.71773406e+07,\n",
       "       5.72081473e+07, 5.71773097e+07, 5.71773957e+07, 5.71773105e+07,\n",
       "       6.70763915e+07, 6.38307454e+07, 5.71776931e+07, 5.72176732e+07,\n",
       "       5.72338894e+07, 5.81370461e+07, 5.71773150e+07, 5.71797445e+07,\n",
       "       6.30564635e+07, 5.79769943e+07, 5.71779419e+07, 5.71773104e+07,\n",
       "       5.71773109e+07, 5.72829394e+07, 5.75628073e+07, 1.48650061e+08,\n",
       "       5.71775833e+07, 6.70007086e+07, 6.64309272e+07, 5.71959512e+07,\n",
       "       5.71773188e+07, 5.96969154e+07, 6.70194670e+07, 5.77072331e+07,\n",
       "       5.71773103e+07, 5.77397389e+07, 5.71776524e+07, 5.72153264e+07,\n",
       "       5.72562089e+07, 5.72179501e+07, 5.78897197e+07, 5.71773164e+07,\n",
       "       5.71805274e+07, 5.72097461e+07, 5.74623152e+07, 5.71773454e+07,\n",
       "       5.71773136e+07, 5.71869326e+07, 6.29375241e+07, 5.77691415e+07,\n",
       "       5.71773554e+07, 5.71773389e+07, 5.71817750e+07, 5.72000626e+07,\n",
       "       5.71775514e+07, 5.71776943e+07, 5.71779473e+07, 6.64573503e+07,\n",
       "       5.79602533e+07, 5.77528969e+07, 5.72811880e+07, 5.71777375e+07,\n",
       "       1.18976592e+08, 5.71773099e+07, 5.71773126e+07, 5.71803855e+07,\n",
       "       5.71773160e+07, 1.57893824e+08, 5.71773851e+07, 1.22738325e+08,\n",
       "       5.71781941e+07, 5.71773993e+07, 5.71773784e+07, 5.71773110e+07,\n",
       "       5.71773130e+07, 5.71773170e+07, 5.71860865e+07, 5.76439138e+07,\n",
       "       5.71773179e+07, 5.71862568e+07, 6.36897113e+07, 6.27068235e+07,\n",
       "       5.71773103e+07, 5.71773190e+07, 5.71808215e+07, 7.72410894e+07,\n",
       "       5.71773159e+07, 5.71773101e+07, 5.71773096e+07, 5.71778595e+07,\n",
       "       5.76242159e+07, 5.71773099e+07, 6.18566076e+07, 5.71773141e+07,\n",
       "       5.72059189e+07, 5.71814260e+07, 5.71781732e+07, 5.71781608e+07,\n",
       "       5.71773523e+07, 1.45077218e+08, 5.77826498e+07, 5.80766237e+07,\n",
       "       5.71773152e+07, 5.77331839e+07, 5.71773097e+07, 5.71780283e+07,\n",
       "       5.72316570e+07, 5.71773951e+07, 7.87628820e+07, 5.71778889e+07,\n",
       "       1.37046326e+08, 5.72251587e+07, 5.71782204e+07, 5.79138529e+07,\n",
       "       5.76238083e+07, 5.71773743e+07, 5.72777359e+07, 5.71773146e+07,\n",
       "       5.71773104e+07, 5.71773814e+07, 5.71773114e+07, 5.72332024e+07,\n",
       "       5.71859150e+07, 5.71773205e+07, 5.72771672e+07, 5.71773527e+07,\n",
       "       5.79067994e+07, 5.79858741e+07, 5.79137640e+07, 5.71773737e+07,\n",
       "       5.79863725e+07, 5.71773515e+07, 1.35034158e+08, 5.71783507e+07,\n",
       "       5.72165583e+07, 5.71805329e+07, 5.71773706e+07, 5.71813308e+07,\n",
       "       5.71773100e+07, 1.38509403e+08, 5.71773098e+07, 5.71774546e+07,\n",
       "       5.71773100e+07, 1.19114959e+08, 5.71773698e+07, 5.71841825e+07,\n",
       "       5.71788240e+07, 5.81326054e+07, 6.66288204e+07, 5.71808799e+07,\n",
       "       5.78598656e+07, 5.71812124e+07, 5.71777259e+07, 6.12738843e+07,\n",
       "       5.80679367e+07, 5.78162747e+07, 5.78656229e+07, 5.71773095e+07,\n",
       "       5.71775094e+07, 5.85587194e+07, 6.83416781e+07, 5.71773095e+07,\n",
       "       5.71773930e+07, 5.75131504e+07, 5.71773218e+07, 5.71773104e+07,\n",
       "       5.71773823e+07, 5.76811584e+07, 6.62543721e+07, 5.71773136e+07,\n",
       "       7.84475767e+07, 5.71774119e+07, 5.71861375e+07, 5.71773520e+07,\n",
       "       5.71773101e+07, 9.21990216e+07, 5.71943465e+07, 5.71773823e+07,\n",
       "       5.76088920e+07, 5.71773182e+07, 5.71773105e+07, 5.71776788e+07,\n",
       "       5.71858307e+07, 5.71773275e+07, 5.71875295e+07, 1.53776690e+08,\n",
       "       1.29862560e+08, 5.71808963e+07, 5.71780427e+07, 5.72596327e+07,\n",
       "       5.71826306e+07, 5.72344628e+07, 6.55348368e+07, 5.75228287e+07,\n",
       "       5.71773104e+07, 5.72665692e+07, 5.71773098e+07, 5.71773100e+07,\n",
       "       5.71776886e+07, 5.72612467e+07, 5.72093708e+07, 5.71773169e+07,\n",
       "       5.71773095e+07, 5.71773783e+07, 5.71780993e+07, 5.71773111e+07,\n",
       "       5.73751012e+07, 9.13594434e+07, 5.71801209e+07, 5.72210388e+07,\n",
       "       5.73252844e+07, 5.72532465e+07, 5.72095150e+07, 1.23051303e+08,\n",
       "       5.71773219e+07, 5.71773192e+07, 5.71784354e+07, 5.71785779e+07,\n",
       "       7.21429487e+07, 5.71947110e+07, 5.72464421e+07, 5.71839002e+07,\n",
       "       5.72166231e+07, 5.72164071e+07, 5.71773188e+07, 5.71773095e+07,\n",
       "       5.71773969e+07, 5.71773101e+07, 5.82175322e+07, 5.71773605e+07,\n",
       "       5.71773143e+07, 5.71777004e+07, 5.71841532e+07, 5.71773105e+07,\n",
       "       5.74063026e+07, 7.66940412e+07, 6.02310278e+07, 5.72608526e+07,\n",
       "       6.61246416e+07, 5.71791488e+07, 5.71789824e+07, 5.71773103e+07,\n",
       "       5.71778265e+07, 5.71811275e+07, 5.96638299e+07, 5.71773103e+07,\n",
       "       5.79436423e+07, 5.71773437e+07, 5.71776001e+07, 5.71773784e+07,\n",
       "       5.71773095e+07, 5.74328801e+07, 5.77831643e+07, 5.71792732e+07,\n",
       "       6.44858749e+07, 5.71781751e+07, 5.71783477e+07, 5.72820970e+07,\n",
       "       5.71802343e+07, 5.71881395e+07, 5.79145824e+07, 5.71773152e+07])"
      ]
     },
     "execution_count": 56,
     "metadata": {},
     "output_type": "execute_result"
    }
   ],
   "source": [
    "#Prediction for the test data\n",
    "\n",
    "y_pred_test = regressor.predict(X_test)\n",
    "\n",
    "y_pred_test"
   ]
  },
  {
   "cell_type": "code",
   "execution_count": 57,
   "id": "c558f3e1-f2bc-4de4-b4e6-7d1d1d67660d",
   "metadata": {},
   "outputs": [
    {
     "data": {
      "text/plain": [
       "984     550170129\n",
       "887        784133\n",
       "11       44799663\n",
       "235             9\n",
       "596      75159706\n",
       "          ...    \n",
       "1094     25138115\n",
       "172            78\n",
       "288           943\n",
       "591     156885785\n",
       "699             8\n",
       "Name: Height, Length: 480, dtype: int64"
      ]
     },
     "execution_count": 57,
     "metadata": {},
     "output_type": "execute_result"
    }
   ],
   "source": [
    "y_test"
   ]
  },
  {
   "cell_type": "markdown",
   "id": "2fb924dc-6755-478e-84cc-9bca6a4ddba0",
   "metadata": {},
   "source": [
    "### 6. using the perfomance matrix for the accuracy measurement\n",
    "\n"
   ]
  },
  {
   "cell_type": "code",
   "execution_count": 58,
   "id": "b4e7f42f-f63a-4e42-8d42-cafd3c5a7797",
   "metadata": {},
   "outputs": [
    {
     "name": "stdout",
     "output_type": "stream",
     "text": [
      "3.0362979556038684e+16\n",
      "94683698.87194891\n",
      "174249761.997079\n"
     ]
    }
   ],
   "source": [
    "from sklearn.metrics import mean_squared_error,mean_absolute_error\n",
    "\n",
    "mse = mean_squared_error(y_test,y_pred_test)\n",
    "mae = mean_absolute_error(y_test,y_pred_test)\n",
    "rmse = np.sqrt(mse)\n",
    "\n",
    "print(mse)\n",
    "print(mae)\n",
    "print(rmse)\n",
    "\n"
   ]
  },
  {
   "cell_type": "markdown",
   "id": "75db259b-bcac-4528-a123-1ff0b8eafbcc",
   "metadata": {},
   "source": [
    "### Accuracy of the model is calculted by r square error or r mean squared error\n",
    "\n",
    "\n"
   ]
  },
  {
   "cell_type": "code",
   "execution_count": 59,
   "id": "c817e4c8-ab8c-4907-ba6b-a7f5522d018e",
   "metadata": {},
   "outputs": [
    {
     "data": {
      "text/plain": [
       "-0.005419373976749853"
      ]
     },
     "execution_count": 59,
     "metadata": {},
     "output_type": "execute_result"
    }
   ],
   "source": [
    "from sklearn.metrics import r2_score\n",
    "\n",
    "score = r2_score(y_test,y_pred_test)\n",
    "\n",
    "\n",
    "# /*Dumb model prediction based*/\n",
    "score"
   ]
  },
  {
   "cell_type": "code",
   "execution_count": null,
   "id": "471c99cf-3838-486a-871e-c9f1789c7018",
   "metadata": {},
   "outputs": [],
   "source": []
  }
 ],
 "metadata": {
  "kernelspec": {
   "display_name": "Python 3 (ipykernel)",
   "language": "python",
   "name": "python3"
  },
  "language_info": {
   "codemirror_mode": {
    "name": "ipython",
    "version": 3
   },
   "file_extension": ".py",
   "mimetype": "text/x-python",
   "name": "python",
   "nbconvert_exporter": "python",
   "pygments_lexer": "ipython3",
   "version": "3.10.6"
  }
 },
 "nbformat": 4,
 "nbformat_minor": 5
}
